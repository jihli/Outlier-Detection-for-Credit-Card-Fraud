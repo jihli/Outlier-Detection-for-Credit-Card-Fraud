{
 "cells": [
  {
   "cell_type": "markdown",
   "id": "4f45ce41",
   "metadata": {},
   "source": [
    "# Part 1: Import Data and Package Setup"
   ]
  },
  {
   "cell_type": "code",
   "execution_count": 2,
   "id": "e5fad1fd",
   "metadata": {},
   "outputs": [],
   "source": [
    "import matplotlib.pyplot as plt\n",
    "import seaborn as sns, numpy as np\n",
    "from sklearn.ensemble import IsolationForest\n",
    "from numpy import genfromtxt\n",
    "from scipy.stats import multivariate_normal\n",
    "from sklearn.metrics import f1_score\n",
    "import io\n",
    "import pandas as pd\n",
    "from sklearn.model_selection import train_test_split\n",
    "from sklearn.metrics import f1_score, roc_auc_score, roc_curve, precision_recall_curve, auc, make_scorer, recall_score, accuracy_score, precision_score, confusion_matrix"
   ]
  },
  {
   "cell_type": "code",
   "execution_count": 3,
   "id": "c6403cbc",
   "metadata": {
    "scrolled": true
   },
   "outputs": [
    {
     "data": {
      "text/html": [
       "<div>\n",
       "<style scoped>\n",
       "    .dataframe tbody tr th:only-of-type {\n",
       "        vertical-align: middle;\n",
       "    }\n",
       "\n",
       "    .dataframe tbody tr th {\n",
       "        vertical-align: top;\n",
       "    }\n",
       "\n",
       "    .dataframe thead th {\n",
       "        text-align: right;\n",
       "    }\n",
       "</style>\n",
       "<table border=\"1\" class=\"dataframe\">\n",
       "  <thead>\n",
       "    <tr style=\"text-align: right;\">\n",
       "      <th></th>\n",
       "      <th>Time</th>\n",
       "      <th>V1</th>\n",
       "      <th>V2</th>\n",
       "      <th>V3</th>\n",
       "      <th>V4</th>\n",
       "      <th>V5</th>\n",
       "      <th>V6</th>\n",
       "      <th>V7</th>\n",
       "      <th>V8</th>\n",
       "      <th>V9</th>\n",
       "      <th>...</th>\n",
       "      <th>V21</th>\n",
       "      <th>V22</th>\n",
       "      <th>V23</th>\n",
       "      <th>V24</th>\n",
       "      <th>V25</th>\n",
       "      <th>V26</th>\n",
       "      <th>V27</th>\n",
       "      <th>V28</th>\n",
       "      <th>Amount</th>\n",
       "      <th>Class</th>\n",
       "    </tr>\n",
       "  </thead>\n",
       "  <tbody>\n",
       "    <tr>\n",
       "      <th>0</th>\n",
       "      <td>0.0</td>\n",
       "      <td>-1.359807</td>\n",
       "      <td>-0.072781</td>\n",
       "      <td>2.536347</td>\n",
       "      <td>1.378155</td>\n",
       "      <td>-0.338321</td>\n",
       "      <td>0.462388</td>\n",
       "      <td>0.239599</td>\n",
       "      <td>0.098698</td>\n",
       "      <td>0.363787</td>\n",
       "      <td>...</td>\n",
       "      <td>-0.018307</td>\n",
       "      <td>0.277838</td>\n",
       "      <td>-0.110474</td>\n",
       "      <td>0.066928</td>\n",
       "      <td>0.128539</td>\n",
       "      <td>-0.189115</td>\n",
       "      <td>0.133558</td>\n",
       "      <td>-0.021053</td>\n",
       "      <td>149.62</td>\n",
       "      <td>0</td>\n",
       "    </tr>\n",
       "    <tr>\n",
       "      <th>1</th>\n",
       "      <td>0.0</td>\n",
       "      <td>1.191857</td>\n",
       "      <td>0.266151</td>\n",
       "      <td>0.166480</td>\n",
       "      <td>0.448154</td>\n",
       "      <td>0.060018</td>\n",
       "      <td>-0.082361</td>\n",
       "      <td>-0.078803</td>\n",
       "      <td>0.085102</td>\n",
       "      <td>-0.255425</td>\n",
       "      <td>...</td>\n",
       "      <td>-0.225775</td>\n",
       "      <td>-0.638672</td>\n",
       "      <td>0.101288</td>\n",
       "      <td>-0.339846</td>\n",
       "      <td>0.167170</td>\n",
       "      <td>0.125895</td>\n",
       "      <td>-0.008983</td>\n",
       "      <td>0.014724</td>\n",
       "      <td>2.69</td>\n",
       "      <td>0</td>\n",
       "    </tr>\n",
       "    <tr>\n",
       "      <th>2</th>\n",
       "      <td>1.0</td>\n",
       "      <td>-1.358354</td>\n",
       "      <td>-1.340163</td>\n",
       "      <td>1.773209</td>\n",
       "      <td>0.379780</td>\n",
       "      <td>-0.503198</td>\n",
       "      <td>1.800499</td>\n",
       "      <td>0.791461</td>\n",
       "      <td>0.247676</td>\n",
       "      <td>-1.514654</td>\n",
       "      <td>...</td>\n",
       "      <td>0.247998</td>\n",
       "      <td>0.771679</td>\n",
       "      <td>0.909412</td>\n",
       "      <td>-0.689281</td>\n",
       "      <td>-0.327642</td>\n",
       "      <td>-0.139097</td>\n",
       "      <td>-0.055353</td>\n",
       "      <td>-0.059752</td>\n",
       "      <td>378.66</td>\n",
       "      <td>0</td>\n",
       "    </tr>\n",
       "    <tr>\n",
       "      <th>3</th>\n",
       "      <td>1.0</td>\n",
       "      <td>-0.966272</td>\n",
       "      <td>-0.185226</td>\n",
       "      <td>1.792993</td>\n",
       "      <td>-0.863291</td>\n",
       "      <td>-0.010309</td>\n",
       "      <td>1.247203</td>\n",
       "      <td>0.237609</td>\n",
       "      <td>0.377436</td>\n",
       "      <td>-1.387024</td>\n",
       "      <td>...</td>\n",
       "      <td>-0.108300</td>\n",
       "      <td>0.005274</td>\n",
       "      <td>-0.190321</td>\n",
       "      <td>-1.175575</td>\n",
       "      <td>0.647376</td>\n",
       "      <td>-0.221929</td>\n",
       "      <td>0.062723</td>\n",
       "      <td>0.061458</td>\n",
       "      <td>123.50</td>\n",
       "      <td>0</td>\n",
       "    </tr>\n",
       "    <tr>\n",
       "      <th>4</th>\n",
       "      <td>2.0</td>\n",
       "      <td>-1.158233</td>\n",
       "      <td>0.877737</td>\n",
       "      <td>1.548718</td>\n",
       "      <td>0.403034</td>\n",
       "      <td>-0.407193</td>\n",
       "      <td>0.095921</td>\n",
       "      <td>0.592941</td>\n",
       "      <td>-0.270533</td>\n",
       "      <td>0.817739</td>\n",
       "      <td>...</td>\n",
       "      <td>-0.009431</td>\n",
       "      <td>0.798278</td>\n",
       "      <td>-0.137458</td>\n",
       "      <td>0.141267</td>\n",
       "      <td>-0.206010</td>\n",
       "      <td>0.502292</td>\n",
       "      <td>0.219422</td>\n",
       "      <td>0.215153</td>\n",
       "      <td>69.99</td>\n",
       "      <td>0</td>\n",
       "    </tr>\n",
       "  </tbody>\n",
       "</table>\n",
       "<p>5 rows × 31 columns</p>\n",
       "</div>"
      ],
      "text/plain": [
       "   Time        V1        V2        V3        V4        V5        V6        V7  \\\n",
       "0   0.0 -1.359807 -0.072781  2.536347  1.378155 -0.338321  0.462388  0.239599   \n",
       "1   0.0  1.191857  0.266151  0.166480  0.448154  0.060018 -0.082361 -0.078803   \n",
       "2   1.0 -1.358354 -1.340163  1.773209  0.379780 -0.503198  1.800499  0.791461   \n",
       "3   1.0 -0.966272 -0.185226  1.792993 -0.863291 -0.010309  1.247203  0.237609   \n",
       "4   2.0 -1.158233  0.877737  1.548718  0.403034 -0.407193  0.095921  0.592941   \n",
       "\n",
       "         V8        V9  ...       V21       V22       V23       V24       V25  \\\n",
       "0  0.098698  0.363787  ... -0.018307  0.277838 -0.110474  0.066928  0.128539   \n",
       "1  0.085102 -0.255425  ... -0.225775 -0.638672  0.101288 -0.339846  0.167170   \n",
       "2  0.247676 -1.514654  ...  0.247998  0.771679  0.909412 -0.689281 -0.327642   \n",
       "3  0.377436 -1.387024  ... -0.108300  0.005274 -0.190321 -1.175575  0.647376   \n",
       "4 -0.270533  0.817739  ... -0.009431  0.798278 -0.137458  0.141267 -0.206010   \n",
       "\n",
       "        V26       V27       V28  Amount  Class  \n",
       "0 -0.189115  0.133558 -0.021053  149.62      0  \n",
       "1  0.125895 -0.008983  0.014724    2.69      0  \n",
       "2 -0.139097 -0.055353 -0.059752  378.66      0  \n",
       "3 -0.221929  0.062723  0.061458  123.50      0  \n",
       "4  0.502292  0.219422  0.215153   69.99      0  \n",
       "\n",
       "[5 rows x 31 columns]"
      ]
     },
     "execution_count": 3,
     "metadata": {},
     "output_type": "execute_result"
    }
   ],
   "source": [
    "creditcardDF = pd.read_csv(r'C:\\Users\\a2769\\OneDrive\\桌面\\Python Project\\creditcard.csv') #much faster once saved in drive\n",
    "creditcardDF.head()#all numerical"
   ]
  },
  {
   "cell_type": "markdown",
   "id": "5657516b",
   "metadata": {},
   "source": [
    "# Part 2: Data exploration and EDA"
   ]
  },
  {
   "cell_type": "code",
   "execution_count": 4,
   "id": "c3aeeab1",
   "metadata": {},
   "outputs": [
    {
     "name": "stdout",
     "output_type": "stream",
     "text": [
      "0    284315\n",
      "1       492\n",
      "Name: Class, dtype: int64\n",
      "----------------------------------------------------\n",
      "Extreme inbalanced data with 0.001727485630620034\n",
      "----------------------------------------------------\n",
      "The data shape is: (284807, 31)\n",
      "----------------------------------------------------\n",
      "Check for the Null value\n",
      "Time      0\n",
      "V1        0\n",
      "V2        0\n",
      "V3        0\n",
      "V4        0\n",
      "V5        0\n",
      "V6        0\n",
      "V7        0\n",
      "V8        0\n",
      "V9        0\n",
      "V10       0\n",
      "V11       0\n",
      "V12       0\n",
      "V13       0\n",
      "V14       0\n",
      "V15       0\n",
      "V16       0\n",
      "V17       0\n",
      "V18       0\n",
      "V19       0\n",
      "V20       0\n",
      "V21       0\n",
      "V22       0\n",
      "V23       0\n",
      "V24       0\n",
      "V25       0\n",
      "V26       0\n",
      "V27       0\n",
      "V28       0\n",
      "Amount    0\n",
      "Class     0\n",
      "dtype: int64\n"
     ]
    }
   ],
   "source": [
    "#Distribution of the label column\n",
    "print(creditcardDF['Class'].value_counts())\n",
    "print(\"----------------------------------------------------\")\n",
    "print(\"Extreme inbalanced data with\",492 / (284315  + 492))\n",
    "print(\"----------------------------------------------------\")\n",
    "print(\"The data shape is:\",creditcardDF.shape)\n",
    "print(\"----------------------------------------------------\")\n",
    "print(\"Check for the Null value\")\n",
    "print(creditcardDF.isna().sum())"
   ]
  },
  {
   "cell_type": "code",
   "execution_count": 5,
   "id": "7757f172",
   "metadata": {},
   "outputs": [
    {
     "name": "stderr",
     "output_type": "stream",
     "text": [
      "D:\\Jupter Notebook\\lib\\site-packages\\seaborn\\distributions.py:2619: FutureWarning: `distplot` is a deprecated function and will be removed in a future version. Please adapt your code to use either `displot` (a figure-level function with similar flexibility) or `histplot` (an axes-level function for histograms).\n",
      "  warnings.warn(msg, FutureWarning)\n"
     ]
    },
    {
     "data": {
      "text/plain": [
       "<AxesSubplot:xlabel='Time', ylabel='Density'>"
      ]
     },
     "execution_count": 5,
     "metadata": {},
     "output_type": "execute_result"
    },
    {
     "data": {
      "image/png": "[encoded data removed]",
      "text/plain": [
       "<Figure size 432x288 with 1 Axes>"
      ]
     },
     "metadata": {
      "needs_background": "light"
     },
     "output_type": "display_data"
    }
   ],
   "source": [
    "sns.distplot(creditcardDF['Time'])"
   ]
  },
  {
   "cell_type": "code",
   "execution_count": 6,
   "id": "ebc91b5a",
   "metadata": {},
   "outputs": [
    {
     "name": "stderr",
     "output_type": "stream",
     "text": [
      "D:\\Jupter Notebook\\lib\\site-packages\\seaborn\\distributions.py:2619: FutureWarning: `distplot` is a deprecated function and will be removed in a future version. Please adapt your code to use either `displot` (a figure-level function with similar flexibility) or `histplot` (an axes-level function for histograms).\n",
      "  warnings.warn(msg, FutureWarning)\n"
     ]
    },
    {
     "data": {
      "text/plain": [
       "<AxesSubplot:xlabel='Amount', ylabel='Density'>"
      ]
     },
     "execution_count": 6,
     "metadata": {},
     "output_type": "execute_result"
    },
    {
     "data": {
      "image/png": "[encoded data removed]",
      "text/plain": [
       "<Figure size 432x288 with 1 Axes>"
      ]
     },
     "metadata": {
      "needs_background": "light"
     },
     "output_type": "display_data"
    }
   ],
   "source": [
    "sns.distplot(creditcardDF['Amount'])"
   ]
  },
  {
   "cell_type": "markdown",
   "id": "14b20a11",
   "metadata": {},
   "source": [
    "# Part 3: Data Transformation"
   ]
  },
  {
   "cell_type": "markdown",
   "id": "14ac9a44",
   "metadata": {},
   "source": [
    "## 2.1 Log the columns of \"Amount\" and \"Time\""
   ]
  },
  {
   "cell_type": "code",
   "execution_count": 7,
   "id": "ac38c032",
   "metadata": {},
   "outputs": [],
   "source": [
    "#Log the columns of \"Amount\" and \"Time\"\n",
    "creditcardDF['Amount'] = np.log(creditcardDF['Amount'] + 1)\n",
    "creditcardDF['Time'] = np.log(creditcardDF['Time'] + 1)"
   ]
  },
  {
   "cell_type": "markdown",
   "id": "90809310",
   "metadata": {},
   "source": [
    "# Part 4: Makeup of Train/Validation/Test Data"
   ]
  },
  {
   "cell_type": "markdown",
   "id": "c0156ba9",
   "metadata": {},
   "source": [
    "## 4.1 Separate the Train/Validation/Test Data"
   ]
  },
  {
   "cell_type": "code",
   "execution_count": 8,
   "id": "b3af487d",
   "metadata": {},
   "outputs": [],
   "source": [
    "#Separate the normal and anomaly\n",
    "normal = creditcardDF[creditcardDF['Class'] == 0]\n",
    "anomaly = creditcardDF[creditcardDF['Class'] == 1]\n",
    "\n",
    "#Separate train,valid,test data\n",
    "pd.set_option(\"display.width\",1000)\n",
    "train, small_normal = train_test_split(normal, test_size=0.2, random_state=0)\n",
    "normal_valid, normal_test = train_test_split(small_normal, test_size=0.5, random_state=0)#2000 : 2000 good hd\n",
    "anomaly_valid, anomaly_test = train_test_split(anomaly, test_size=0.5, random_state=0)#10 : 10 bad hd\n",
    "\n",
    "# Make up validation and test data by combining the normal and anomaly\n",
    "train = train.drop(columns = ['Class']).reset_index(drop= True) #no need of label in train data, drop it\n",
    "validation = pd.concat([normal_valid, anomaly_valid])           #include both good and bad, cross validation data in our text\n",
    "test = pd.concat([normal_test, anomaly_test])                   #include both good and bad"
   ]
  },
  {
   "cell_type": "markdown",
   "id": "70e8cefb",
   "metadata": {},
   "source": [
    "## 4.2 Get a glance of data"
   ]
  },
  {
   "cell_type": "code",
   "execution_count": null,
   "id": "c9701cfc",
   "metadata": {},
   "outputs": [],
   "source": [
    "#Get a glance of data shape\n",
    "print(\"Shape of train data\",train.shape)\n",
    "print(\"Shape of validation data\",validation.shape)\n",
    "print(\"Shape of test data\",test.shape)"
   ]
  },
  {
   "cell_type": "code",
   "execution_count": 51,
   "id": "ccd6a018",
   "metadata": {},
   "outputs": [],
   "source": [
    "# Get feature names only for Validation and Test dataset, no label\n",
    "featureNames = list(train.columns.values)\n",
    "valFeatures = validation[featureNames].reset_index(drop= True)\n",
    "testFeatures = test[featureNames].reset_index(drop= True)\n",
    "\n",
    "# Get label only for Validation and Test dataset\n",
    "valLabel = validation['Class']\n",
    "testLabel = test['Class']"
   ]
  },
  {
   "cell_type": "code",
   "execution_count": 52,
   "id": "088b9551",
   "metadata": {
    "scrolled": false
   },
   "outputs": [
    {
     "data": {
      "text/html": [
       "<div>\n",
       "<style scoped>\n",
       "    .dataframe tbody tr th:only-of-type {\n",
       "        vertical-align: middle;\n",
       "    }\n",
       "\n",
       "    .dataframe tbody tr th {\n",
       "        vertical-align: top;\n",
       "    }\n",
       "\n",
       "    .dataframe thead th {\n",
       "        text-align: right;\n",
       "    }\n",
       "</style>\n",
       "<table border=\"1\" class=\"dataframe\">\n",
       "  <thead>\n",
       "    <tr style=\"text-align: right;\">\n",
       "      <th></th>\n",
       "      <th>Time</th>\n",
       "      <th>V1</th>\n",
       "      <th>V2</th>\n",
       "      <th>V3</th>\n",
       "      <th>V4</th>\n",
       "      <th>V5</th>\n",
       "      <th>V6</th>\n",
       "      <th>V7</th>\n",
       "      <th>V8</th>\n",
       "      <th>V9</th>\n",
       "      <th>...</th>\n",
       "      <th>V20</th>\n",
       "      <th>V21</th>\n",
       "      <th>V22</th>\n",
       "      <th>V23</th>\n",
       "      <th>V24</th>\n",
       "      <th>V25</th>\n",
       "      <th>V26</th>\n",
       "      <th>V27</th>\n",
       "      <th>V28</th>\n",
       "      <th>Amount</th>\n",
       "    </tr>\n",
       "  </thead>\n",
       "  <tbody>\n",
       "    <tr>\n",
       "      <th>0</th>\n",
       "      <td>11.827043</td>\n",
       "      <td>-0.248023</td>\n",
       "      <td>1.259502</td>\n",
       "      <td>-0.993999</td>\n",
       "      <td>-1.587788</td>\n",
       "      <td>1.913462</td>\n",
       "      <td>-0.630270</td>\n",
       "      <td>1.958852</td>\n",
       "      <td>-0.659274</td>\n",
       "      <td>0.002373</td>\n",
       "      <td>...</td>\n",
       "      <td>0.396605</td>\n",
       "      <td>0.089915</td>\n",
       "      <td>0.896611</td>\n",
       "      <td>-0.367547</td>\n",
       "      <td>0.143515</td>\n",
       "      <td>-0.177558</td>\n",
       "      <td>0.025269</td>\n",
       "      <td>0.271419</td>\n",
       "      <td>-0.066416</td>\n",
       "      <td>0.920283</td>\n",
       "    </tr>\n",
       "    <tr>\n",
       "      <th>1</th>\n",
       "      <td>10.809566</td>\n",
       "      <td>-1.614505</td>\n",
       "      <td>-0.970137</td>\n",
       "      <td>1.730517</td>\n",
       "      <td>-1.715497</td>\n",
       "      <td>-0.869271</td>\n",
       "      <td>-0.171355</td>\n",
       "      <td>1.216768</td>\n",
       "      <td>-0.031314</td>\n",
       "      <td>0.992762</td>\n",
       "      <td>...</td>\n",
       "      <td>0.831753</td>\n",
       "      <td>0.408654</td>\n",
       "      <td>0.630537</td>\n",
       "      <td>0.382848</td>\n",
       "      <td>-0.110627</td>\n",
       "      <td>0.906539</td>\n",
       "      <td>-0.618206</td>\n",
       "      <td>-0.026364</td>\n",
       "      <td>0.104561</td>\n",
       "      <td>5.874931</td>\n",
       "    </tr>\n",
       "    <tr>\n",
       "      <th>2</th>\n",
       "      <td>11.340380</td>\n",
       "      <td>1.106176</td>\n",
       "      <td>0.148096</td>\n",
       "      <td>0.424489</td>\n",
       "      <td>1.282916</td>\n",
       "      <td>-0.080275</td>\n",
       "      <td>0.146526</td>\n",
       "      <td>-0.007108</td>\n",
       "      <td>0.114953</td>\n",
       "      <td>-0.004731</td>\n",
       "      <td>...</td>\n",
       "      <td>-0.148073</td>\n",
       "      <td>-0.042488</td>\n",
       "      <td>0.071593</td>\n",
       "      <td>-0.085294</td>\n",
       "      <td>0.032780</td>\n",
       "      <td>0.637894</td>\n",
       "      <td>-0.331179</td>\n",
       "      <td>0.036130</td>\n",
       "      <td>0.007639</td>\n",
       "      <td>2.866193</td>\n",
       "    </tr>\n",
       "    <tr>\n",
       "      <th>3</th>\n",
       "      <td>11.321208</td>\n",
       "      <td>-1.791995</td>\n",
       "      <td>1.102738</td>\n",
       "      <td>0.324217</td>\n",
       "      <td>1.082267</td>\n",
       "      <td>-0.303348</td>\n",
       "      <td>-1.050303</td>\n",
       "      <td>0.066270</td>\n",
       "      <td>0.613586</td>\n",
       "      <td>-0.720545</td>\n",
       "      <td>...</td>\n",
       "      <td>-0.285331</td>\n",
       "      <td>0.151935</td>\n",
       "      <td>0.514245</td>\n",
       "      <td>0.290932</td>\n",
       "      <td>0.403345</td>\n",
       "      <td>-0.064118</td>\n",
       "      <td>-0.318054</td>\n",
       "      <td>0.021940</td>\n",
       "      <td>0.013401</td>\n",
       "      <td>3.432373</td>\n",
       "    </tr>\n",
       "    <tr>\n",
       "      <th>4</th>\n",
       "      <td>11.956784</td>\n",
       "      <td>1.924286</td>\n",
       "      <td>0.324362</td>\n",
       "      <td>-0.734639</td>\n",
       "      <td>3.370481</td>\n",
       "      <td>0.783552</td>\n",
       "      <td>1.224944</td>\n",
       "      <td>-0.298881</td>\n",
       "      <td>0.291717</td>\n",
       "      <td>-0.790152</td>\n",
       "      <td>...</td>\n",
       "      <td>-0.227395</td>\n",
       "      <td>-0.022543</td>\n",
       "      <td>-0.115448</td>\n",
       "      <td>0.143200</td>\n",
       "      <td>-0.357497</td>\n",
       "      <td>-0.109288</td>\n",
       "      <td>-0.105516</td>\n",
       "      <td>-0.025440</td>\n",
       "      <td>-0.050761</td>\n",
       "      <td>2.572612</td>\n",
       "    </tr>\n",
       "  </tbody>\n",
       "</table>\n",
       "<p>5 rows × 30 columns</p>\n",
       "</div>"
      ],
      "text/plain": [
       "        Time        V1        V2        V3        V4        V5        V6        V7        V8        V9  ...       V20       V21       V22       V23       V24       V25       V26       V27       V28    Amount\n",
       "0  11.827043 -0.248023  1.259502 -0.993999 -1.587788  1.913462 -0.630270  1.958852 -0.659274  0.002373  ...  0.396605  0.089915  0.896611 -0.367547  0.143515 -0.177558  0.025269  0.271419 -0.066416  0.920283\n",
       "1  10.809566 -1.614505 -0.970137  1.730517 -1.715497 -0.869271 -0.171355  1.216768 -0.031314  0.992762  ...  0.831753  0.408654  0.630537  0.382848 -0.110627  0.906539 -0.618206 -0.026364  0.104561  5.874931\n",
       "2  11.340380  1.106176  0.148096  0.424489  1.282916 -0.080275  0.146526 -0.007108  0.114953 -0.004731  ... -0.148073 -0.042488  0.071593 -0.085294  0.032780  0.637894 -0.331179  0.036130  0.007639  2.866193\n",
       "3  11.321208 -1.791995  1.102738  0.324217  1.082267 -0.303348 -1.050303  0.066270  0.613586 -0.720545  ... -0.285331  0.151935  0.514245  0.290932  0.403345 -0.064118 -0.318054  0.021940  0.013401  3.432373\n",
       "4  11.956784  1.924286  0.324362 -0.734639  3.370481  0.783552  1.224944 -0.298881  0.291717 -0.790152  ... -0.227395 -0.022543 -0.115448  0.143200 -0.357497 -0.109288 -0.105516 -0.025440 -0.050761  2.572612\n",
       "\n",
       "[5 rows x 30 columns]"
      ]
     },
     "execution_count": 52,
     "metadata": {},
     "output_type": "execute_result"
    }
   ],
   "source": [
    "valFeatures.head()"
   ]
  },
  {
   "cell_type": "markdown",
   "id": "7ca724be",
   "metadata": {},
   "source": [
    "## 4.3 Check Imbalanced for validation and test data"
   ]
  },
  {
   "cell_type": "code",
   "execution_count": 53,
   "id": "7b655617",
   "metadata": {
    "scrolled": true
   },
   "outputs": [
    {
     "name": "stdout",
     "output_type": "stream",
     "text": [
      "Imbalanced for validation data:\n",
      "0    28431\n",
      "1      246\n",
      "Name: Class, dtype: int64\n",
      "----------------------------------------------------\n",
      "Imbalanced for test data:\n",
      "0    28432\n",
      "1      246\n",
      "Name: Class, dtype: int64\n"
     ]
    }
   ],
   "source": [
    "# Check Imbalanced for validation and test data\n",
    "print(\"Imbalanced for validation data:\")\n",
    "print(validation['Class'].value_counts())\n",
    "print(\"----------------------------------------------------\")\n",
    "print(\"Imbalanced for test data:\")\n",
    "print(test['Class'].value_counts())"
   ]
  },
  {
   "cell_type": "markdown",
   "id": "df5d8eac",
   "metadata": {},
   "source": [
    "## 4.4 Plot train/validation/test data"
   ]
  },
  {
   "cell_type": "markdown",
   "id": "99399d2a",
   "metadata": {},
   "source": [
    "### Plot the V1 and V2 for train data"
   ]
  },
  {
   "cell_type": "code",
   "execution_count": 55,
   "id": "fe236391",
   "metadata": {
    "scrolled": true
   },
   "outputs": [
    {
     "data": {
      "image/png": "[encoded data removed]",
      "text/plain": [
       "<Figure size 432x288 with 1 Axes>"
      ]
     },
     "metadata": {
      "needs_background": "light"
     },
     "output_type": "display_data"
    }
   ],
   "source": [
    "plt.figure()\n",
    "plt.title(\"train data of V1 and V2\")#may contain outliers\n",
    "plt.xlabel(\"V1\")\n",
    "plt.ylabel(\"V2\")\n",
    "plt.plot(train.iloc[:, 1],train.iloc[:,2],\"bx\")\n",
    "plt.show()"
   ]
  },
  {
   "cell_type": "markdown",
   "id": "8cdb0196",
   "metadata": {},
   "source": [
    "### Plot the V1 and V2 for validation data"
   ]
  },
  {
   "cell_type": "code",
   "execution_count": 56,
   "id": "0e2bd38a",
   "metadata": {
    "scrolled": true
   },
   "outputs": [
    {
     "data": {
      "image/png": "[encoded data removed]",
      "text/plain": [
       "<Figure size 432x288 with 1 Axes>"
      ]
     },
     "metadata": {
      "needs_background": "light"
     },
     "output_type": "display_data"
    }
   ],
   "source": [
    "plt.figure()\n",
    "plt.title(\"validation data of V1 and V2\")\n",
    "plt.xlabel(\"V1\")\n",
    "plt.ylabel(\"V2\")\n",
    "plt.plot(validation.iloc[:, 1],validation.iloc[:,2],\"bx\")\n",
    "plt.show()"
   ]
  },
  {
   "cell_type": "markdown",
   "id": "042ad428",
   "metadata": {},
   "source": [
    "### Plot the V1 and V2 for test data"
   ]
  },
  {
   "cell_type": "code",
   "execution_count": 57,
   "id": "8e1e5f7f",
   "metadata": {},
   "outputs": [
    {
     "data": {
      "image/png": "[encoded data removed]",
      "text/plain": [
       "<Figure size 432x288 with 1 Axes>"
      ]
     },
     "metadata": {
      "needs_background": "light"
     },
     "output_type": "display_data"
    }
   ],
   "source": [
    "plt.figure()\n",
    "plt.title(\"test data of V1 and V2\")\n",
    "plt.xlabel(\"V1\")\n",
    "plt.ylabel(\"V2\")\n",
    "plt.plot(test.iloc[:, 1],test.iloc[:,2],\"bx\")\n",
    "plt.show()"
   ]
  },
  {
   "cell_type": "markdown",
   "id": "0f438984",
   "metadata": {},
   "source": [
    "## Part 5: Using Validation dataset to find the best threshold"
   ]
  },
  {
   "cell_type": "markdown",
   "id": "23536b62",
   "metadata": {},
   "source": [
    "### 5.1 Create a function for generating mean for each variable and covariance matrixs for the probability_Based model"
   ]
  },
  {
   "cell_type": "code",
   "execution_count": 58,
   "id": "2b3c16b4",
   "metadata": {},
   "outputs": [],
   "source": [
    "def estimateGaussian(dataset):\n",
    "    mu = np.mean(dataset, axis=0)\n",
    "    sigma = np.cov(dataset.T)\n",
    "    return mu, sigma\n",
    "mu, sigma = estimateGaussian(train)\n",
    "print(mu.shape,sigma.shape)"
   ]
  },
  {
   "cell_type": "markdown",
   "id": "f1c4594f",
   "metadata": {},
   "source": [
    "### 5.2 Model Training"
   ]
  },
  {
   "cell_type": "markdown",
   "id": "20f02c7a",
   "metadata": {},
   "source": [
    "No I.I.D assumption\n",
    "\n",
    "Generate The probability density function/curve/surface/model for multivariate_normal given mean and cov \n",
    "\n",
    "Allow_singular: Whether to allow a singular covariance matrix. (Default: False); \n",
    "\n",
    "Multivariate_normal needs inverse of cov"
   ]
  },
  {
   "cell_type": "code",
   "execution_count": 59,
   "id": "4032dd11",
   "metadata": {},
   "outputs": [
    {
     "name": "stdout",
     "output_type": "stream",
     "text": [
      "(30,) (30, 30)\n"
     ]
    }
   ],
   "source": [
    "model = multivariate_normal(mean=mu, cov=sigma, allow_singular = True)#surface hat p(x)"
   ]
  },
  {
   "cell_type": "code",
   "execution_count": 60,
   "id": "ec69b80b",
   "metadata": {},
   "outputs": [
    {
     "name": "stdout",
     "output_type": "stream",
     "text": [
      "Max Prob for being outliers: 3.936022689247857e-12\n",
      "Min Prob for being outliers: 0.0\n",
      "Max Log_Prob for being outliers: -26.260850372210477\n",
      "Min Log_Prob for being outliers: -7554.270217704675\n"
     ]
    }
   ],
   "source": [
    "#使用已经构建好的模型来预测每个Validation样本的probability 并且简单检查最大值/最小值\n",
    "# Print the probability for being outliers for each row\n",
    "pdfVal = model.pdf(valFeatures)\n",
    "print(\"Max Prob for being outliers:\",max(pdfVal))#too small, can not differentiate\n",
    "print(\"Min Prob for being outliers:\",min(pdfVal))\n",
    "\n",
    "# Print the log_probability for being outliers for each row\n",
    "#Log of the pdf first, then apply to features, to change the magnitude of prob\n",
    "p_val = model.logpdf(valFeatures)\n",
    "print(\"Max Log_Prob for being outliers:\",max(p_val))\n",
    "print(\"Min Log_Prob for being outliers:\",min(p_val))"
   ]
  },
  {
   "cell_type": "markdown",
   "id": "93c4f822",
   "metadata": {},
   "source": [
    "### 5.3 Find Optimal Threshold"
   ]
  },
  {
   "cell_type": "code",
   "execution_count": 61,
   "id": "3116de6d",
   "metadata": {},
   "outputs": [
    {
     "name": "stderr",
     "output_type": "stream",
     "text": [
      "D:\\Jupter Notebook\\lib\\site-packages\\sklearn\\metrics\\_classification.py:1318: UndefinedMetricWarning: Precision is ill-defined and being set to 0.0 due to no predicted samples. Use `zero_division` parameter to control this behavior.\n",
      "  _warn_prf(average, modifier, msg_start, len(result))\n"
     ]
    },
    {
     "name": "stdout",
     "output_type": "stream",
     "text": [
      "(200, 3)\n"
     ]
    }
   ],
   "source": [
    "#step 2:  find optimal threshold: bestThreshold\n",
    "scores = []\n",
    "p_val = model.logpdf(valFeatures) #Log of the pdf\n",
    "\n",
    "thresholds = np.linspace(min(p_val), max(p_val),200) #generate all candidate threshold, epsilon\n",
    "\n",
    "for threshold in thresholds:\n",
    "    y_pred = (p_val < threshold).astype(int)# list of 0 and 1\n",
    "    # calculate recall, precision and f1 for each (truth, pred) pair, corresponding to that threshold\n",
    "    scores.append([recall_score(valLabel, y_pred),\n",
    "                 precision_score(valLabel, y_pred),\n",
    "                 f1_score(valLabel, y_pred, average = \"binary\")])\n",
    "\n",
    "scores = np.array(scores)\n",
    "#maxIndex of the 3rd column (f1_score) \n",
    "#193, \n",
    "#.ravel return a flattened array\n",
    "maxIndex = scores[...,2].ravel().argmax()\n",
    "bestThreshold = thresholds[maxIndex]\n",
    "print(scores.shape) #each row is a pair of (recall, precision, f1) corresponding to a threshold"
   ]
  },
  {
   "cell_type": "code",
   "execution_count": 62,
   "id": "9053f727",
   "metadata": {},
   "outputs": [
    {
     "name": "stdout",
     "output_type": "stream",
     "text": [
      "[[0.         0.         0.        ]\n",
      " [0.00406504 1.         0.00809717]\n",
      " [0.00406504 1.         0.00809717]\n",
      " [0.00406504 1.         0.00809717]\n",
      " [0.00406504 1.         0.00809717]]\n"
     ]
    }
   ],
   "source": [
    "print(scores[0:5])"
   ]
  },
  {
   "cell_type": "code",
   "execution_count": 63,
   "id": "52af4f7d",
   "metadata": {},
   "outputs": [
    {
     "name": "stdout",
     "output_type": "stream",
     "text": [
      "The index for max probability 193\n",
      "The threshold producing the best F1 scores -253.2360071762041\n"
     ]
    }
   ],
   "source": [
    "print(\"The index for max probability\",maxIndex)\n",
    "print(\"The threshold producing the best F1 scores\",bestThreshold)"
   ]
  },
  {
   "cell_type": "markdown",
   "id": "33cce6b2",
   "metadata": {},
   "source": [
    "# Part 6: Predict outliers on test data"
   ]
  },
  {
   "cell_type": "code",
   "execution_count": 64,
   "id": "74549c1a",
   "metadata": {},
   "outputs": [
    {
     "data": {
      "text/plain": [
       "0.7401574803149606"
      ]
     },
     "execution_count": 64,
     "metadata": {},
     "output_type": "execute_result"
    }
   ],
   "source": [
    "# Measure the model performance by using test data\n",
    "y_test_pred_raw = model.logpdf(testFeatures)\n",
    "y_pred_test = y_test_pred_raw < bestThreshold #这里得到一个True和False的list\n",
    "\n",
    "f1_score(testLabel, y_pred_test, average = \"binary\")"
   ]
  },
  {
   "cell_type": "code",
   "execution_count": 65,
   "id": "6c57458d",
   "metadata": {},
   "outputs": [
    {
     "name": "stdout",
     "output_type": "stream",
     "text": [
      "The number of predicted outlier in test data is: 262\n"
     ]
    }
   ],
   "source": [
    "#index of predicted outliers in test data\n",
    "predoutliersTest = np.asarray(np.where(y_pred_test)) #Get the index for all predicted outlier in test data\n",
    "\n",
    "print(\"The number of predicted outlier in test data is:\",len(predoutliersTest[0]))"
   ]
  },
  {
   "cell_type": "code",
   "execution_count": 66,
   "id": "b69bb2bf",
   "metadata": {},
   "outputs": [
    {
     "data": {
      "text/plain": [
       "array([[  248,   437,   605,  1007,  1353,  1451,  1462,  1546,  1988,\n",
       "         2461,  3674,  3928,  4216,  4928,  5144,  5846,  5975,  6022,\n",
       "         6682,  6706,  6858,  7017,  7138,  8267,  8452,  8611,  8677,\n",
       "         8936,  8996,  9207,  9443,  9807,  9988, 10263, 10391, 10657,\n",
       "        11224, 12205, 13539, 13935, 14050, 14573, 14579, 14802, 14869,\n",
       "        15740, 16061, 16888, 17322, 17663, 19352, 19902, 20680, 20800,\n",
       "        21748, 22366, 22552, 22859, 23217, 23456, 23742, 24639, 24819,\n",
       "        25654, 25678, 26035, 27282, 27293, 27314, 27587, 27723, 28117,\n",
       "        28178, 28396, 28432, 28433, 28434, 28435, 28436, 28437, 28438,\n",
       "        28440, 28443, 28444, 28445, 28446, 28447, 28449, 28450, 28453,\n",
       "        28454, 28455, 28456, 28457, 28458, 28459, 28460, 28461, 28462,\n",
       "        28463, 28464, 28465, 28466, 28467, 28468, 28469, 28470, 28471,\n",
       "        28472, 28473, 28475, 28479, 28480, 28481, 28482, 28483, 28484,\n",
       "        28486, 28487, 28490, 28492, 28493, 28494, 28496, 28497, 28498,\n",
       "        28499, 28500, 28501, 28502, 28503, 28505, 28506, 28507, 28508,\n",
       "        28510, 28511, 28512, 28513, 28517, 28521, 28523, 28525, 28526,\n",
       "        28527, 28528, 28529, 28530, 28531, 28532, 28536, 28538, 28539,\n",
       "        28540, 28542, 28543, 28544, 28546, 28547, 28549, 28550, 28551,\n",
       "        28552, 28553, 28554, 28555, 28556, 28558, 28559, 28560, 28561,\n",
       "        28562, 28564, 28565, 28566, 28567, 28568, 28570, 28572, 28574,\n",
       "        28575, 28576, 28577, 28578, 28579, 28580, 28581, 28583, 28584,\n",
       "        28585, 28586, 28588, 28589, 28591, 28592, 28594, 28596, 28598,\n",
       "        28599, 28600, 28601, 28602, 28603, 28604, 28605, 28606, 28607,\n",
       "        28609, 28610, 28612, 28615, 28617, 28618, 28619, 28620, 28621,\n",
       "        28622, 28623, 28625, 28626, 28628, 28629, 28630, 28631, 28632,\n",
       "        28633, 28636, 28637, 28638, 28639, 28640, 28641, 28642, 28643,\n",
       "        28645, 28646, 28647, 28648, 28649, 28650, 28651, 28652, 28653,\n",
       "        28654, 28656, 28657, 28658, 28659, 28660, 28661, 28662, 28663,\n",
       "        28664, 28666, 28669, 28670, 28671, 28672, 28673, 28674, 28675,\n",
       "        28677]], dtype=int64)"
      ]
     },
     "execution_count": 66,
     "metadata": {},
     "output_type": "execute_result"
    }
   ],
   "source": [
    "predoutliersTest"
   ]
  },
  {
   "cell_type": "markdown",
   "id": "e14b0542",
   "metadata": {},
   "source": [
    "## 6.1 Outliers identified on test data feature column V1 V2"
   ]
  },
  {
   "cell_type": "code",
   "execution_count": 67,
   "id": "9622a405",
   "metadata": {},
   "outputs": [
    {
     "data": {
      "image/png": "[encoded data removed]",
      "text/plain": [
       "<Figure size 432x288 with 1 Axes>"
      ]
     },
     "metadata": {
      "needs_background": "light"
     },
     "output_type": "display_data"
    }
   ],
   "source": [
    "#outliers identified on test data feature column V1 V2\n",
    "plt.figure()\n",
    "plt.title(\"test_data with outlier flaged red\")\n",
    "plt.xlabel(\"V1\")\n",
    "plt.ylabel(\"V2\")\n",
    "plt.plot(testFeatures.iloc[:,1],testFeatures.iloc[:,2],\"bx\")#plot v1 v2 as blue cross\n",
    "plt.plot(testFeatures.iloc[predoutliersTest[0],1],testFeatures.iloc[predoutliersTest[0],2],\"ro\")#re-plot the outliers as red dots\n",
    "plt.show()"
   ]
  },
  {
   "cell_type": "markdown",
   "id": "c0a58b83",
   "metadata": {},
   "source": [
    "## 6.2 Outliers identified on test data feature column V2 V3"
   ]
  },
  {
   "cell_type": "code",
   "execution_count": 68,
   "id": "2e98dc1b",
   "metadata": {},
   "outputs": [
    {
     "data": {
      "image/png": "[encoded data removed]",
      "text/plain": [
       "<Figure size 432x288 with 1 Axes>"
      ]
     },
     "metadata": {
      "needs_background": "light"
     },
     "output_type": "display_data"
    }
   ],
   "source": [
    "#outliers identified on test data feature column V2 V3\n",
    "plt.figure()\n",
    "plt.title(\"test_data with outlier flaged red\")\n",
    "plt.xlabel(\"V2\")\n",
    "plt.ylabel(\"V3\")\n",
    "plt.plot(testFeatures.iloc[:, 2],testFeatures.iloc[:,3],\"bx\")\n",
    "plt.plot(testFeatures.iloc[predoutliersTest[0],2],testFeatures.iloc[predoutliersTest[0],3],\"ro\")\n",
    "plt.show()"
   ]
  },
  {
   "cell_type": "markdown",
   "id": "fc1fd929",
   "metadata": {},
   "source": [
    "## 6.3 Generate evaluation metrics for outliers"
   ]
  },
  {
   "cell_type": "code",
   "execution_count": 69,
   "id": "01e59814",
   "metadata": {},
   "outputs": [
    {
     "name": "stdout",
     "output_type": "stream",
     "text": [
      "accuracy_score is: : 0.9953971685612665\n",
      "roc_auc_score is: : 0.8808124705473279\n",
      "f1_score is: : 0.7401574803149606\n",
      "\n",
      "confusion_matrix is: \n",
      "        pred_0  pred_1\n",
      "true_0   28358      74\n",
      "true_1      58     188\n",
      "recall = 0.7642276422764228\n",
      "precision = 0.7175572519083969\n"
     ]
    }
   ],
   "source": [
    "# generate evaluation metrics\n",
    "print(\"%s: %r\" % (\"accuracy_score is: \", accuracy_score(testLabel, y_pred_test)))\n",
    "print(\"%s: %r\" % (\"roc_auc_score is: \", roc_auc_score(testLabel, y_pred_test)))#correction: y_pred_test instead of y_test_pred_raw\n",
    "print(\"%s: %r\" % (\"f1_score is: \", f1_score(testLabel, y_pred_test )))#string to int\n",
    "print()\n",
    "print (\"confusion_matrix is: \")\n",
    "cm = confusion_matrix(testLabel, y_pred_test)\n",
    "cmDF = pd.DataFrame(cm, columns=['pred_0', 'pred_1'], index=['true_0', 'true_1'])\n",
    "print(cmDF)\n",
    "print('recall =',float(cm[1,1])/(cm[1,0]+cm[1,1]))\n",
    "print('precision =', float(cm[1,1])/(cm[1,1] + cm[0,1]))#1.0"
   ]
  },
  {
   "cell_type": "markdown",
   "id": "e0899fb3",
   "metadata": {},
   "source": [
    "# Part 7: IsolationForest Model"
   ]
  },
  {
   "cell_type": "code",
   "execution_count": null,
   "id": "65c94130",
   "metadata": {},
   "outputs": [],
   "source": [
    "#note we can apply supervised learning on this data too, but performance may be different, \n",
    "#can try use the output prob as an additional input feature of the supervised learning model, and see if it improved the model perf"
   ]
  },
  {
   "cell_type": "code",
   "execution_count": 70,
   "id": "b99dc06f",
   "metadata": {},
   "outputs": [
    {
     "name": "stderr",
     "output_type": "stream",
     "text": [
      "D:\\Jupter Notebook\\lib\\site-packages\\sklearn\\base.py:450: UserWarning: X does not have valid feature names, but IsolationForest was fitted with feature names\n",
      "  warnings.warn(\n"
     ]
    },
    {
     "data": {
      "text/plain": [
       "IsolationForest(contamination=0.01, max_features=2, n_estimators=200,\n",
       "                random_state=0)"
      ]
     },
     "execution_count": 70,
     "metadata": {},
     "output_type": "execute_result"
    }
   ],
   "source": [
    "# Number of estimators: n_estimators refers to the number of base estimators or trees in the ensemble, \n",
    "# i.e. the number of trees that will get built in the forest. \n",
    "# This is an integer parameter and is optional. The default value is 100.\n",
    "\n",
    "# Max samples: max_samples is the number of samples to be drawn to train each base estimator. \n",
    "# If max_samples is more than the number of samples provided, all samples will be used for all trees. \n",
    "# The default value of max_samples is 'auto'. If 'auto', then max_samples=min(256, n_samples)\n",
    "\n",
    "# Contamination: This is a parameter that the algorithm is quite sensitive to; \n",
    "# it refers to the expected proportion of outliers in the data set. \n",
    "# This is used when fitting to define the threshold on the scores of the samples. The default value is 'auto'. \n",
    "# If ‘auto’, the threshold value will be determined as in the original paper of Isolation Forest.\n",
    "\n",
    "# Max features: All the base estimators are not trained with all the features available in the dataset. \n",
    "# It is the number of features to draw from the total features to train each base estimator or tree.\n",
    "# The default value of max features is one.\n",
    "\n",
    "IFModel = IsolationForest(random_state=0, contamination = 0.01, n_estimators = 200, max_features = 2).fit(train)\n",
    "IFModel"
   ]
  },
  {
   "cell_type": "code",
   "execution_count": 72,
   "id": "4ec6eab4",
   "metadata": {},
   "outputs": [
    {
     "name": "stdout",
     "output_type": "stream",
     "text": [
      "Counter({0: 28283, 1: 395})\n",
      "F1 score from IsolationForest model: 0.48049921996879874\n"
     ]
    }
   ],
   "source": [
    "# convert 1/-1 to 0/1 for f1 calculation\n",
    "def convert(x):\n",
    "    if x == 1:\n",
    "        return 0\n",
    "    else:\n",
    "        return 1\n",
    "pred = IFModel.predict(testFeatures) #1 for inliers, -1 for outliers.\n",
    "pred2 = list(map(convert, pred))\n",
    "\n",
    "# pred2\n",
    "import collections\n",
    "\n",
    "counter=collections.Counter(pred2)\n",
    "print(counter)#\n",
    "print(\"F1 score from IsolationForest model:\",f1_score(testLabel, pred2, average = \"binary\"))"
   ]
  }
 ],
 "metadata": {
  "kernelspec": {
   "display_name": "Python 3 (ipykernel)",
   "language": "python",
   "name": "python3"
  },
  "language_info": {
   "codemirror_mode": {
    "name": "ipython",
    "version": 3
   },
   "file_extension": ".py",
   "mimetype": "text/x-python",
   "name": "python",
   "nbconvert_exporter": "python",
   "pygments_lexer": "ipython3",
   "version": "3.9.12"
  }
 },
 "nbformat": 4,
 "nbformat_minor": 5
}
